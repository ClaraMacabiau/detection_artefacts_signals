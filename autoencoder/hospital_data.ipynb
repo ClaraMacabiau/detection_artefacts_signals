{
 "cells": [
  {
   "cell_type": "markdown",
   "metadata": {},
   "source": [
    "### First part of the hospital data preprocessing"
   ]
  },
  {
   "cell_type": "code",
   "execution_count": null,
   "metadata": {},
   "outputs": [],
   "source": [
    "#%matplotlib widget\n",
    "import pandas as pd\n",
    "import numpy as np\n",
    "import ast\n",
    "import matplotlib.pyplot as plt\n",
    "from datetime import datetime, timedelta"
   ]
  },
  {
   "cell_type": "markdown",
   "metadata": {},
   "source": [
    "1) Functions"
   ]
  },
  {
   "cell_type": "code",
   "execution_count": null,
   "metadata": {},
   "outputs": [],
   "source": [
    "def open_file(path):\n",
    "    f=[]\n",
    "    for k in sorted(listdir(path)):\n",
    "        f.append(path + \"/\" + k) #add each file path in a folder in a list  \n",
    "    return f\n",
    "\n",
    "def df_function(path):\n",
    "    df = pd.read_csv(path) #creation of the dataframe \n",
    "    df=df.sort_values(by=['horodate'], ascending=True) #the dates are sorted in ascending order\n",
    "    df['horodate'] = pd.to_datetime(df['horodate'], format=format) #in the csv file the dates are str, transformation to datetime\n",
    "    return df\n",
    "\n",
    "def signal(path,path_ecg,format):\n",
    "    #test=np.linspace(1,1,1)\n",
    "    file_ppg=open_file(path) #open the pleth files\n",
    "    file_ecg=open_file(path_ecg) #open the ecg files\n",
    "    for i in range(len(file_ppg)):\n",
    "        df_ppg=df_function(file_ppg[i]) #creation of df\n",
    "        df_ecg=df_function(file_ecg[i])\n",
    "        start_time_ecg = df_ecg['horodate'].iat[0] #start time is the first value in the 'horodate' column (bc ascending order)\n",
    "        start_time_ppg = df_ppg['horodate'].iat[0]\n",
    "        max_value=max(start_time_ecg,start_time_ppg)+timedelta(hours=1) #max value btw start times + 1 hour (before the patient is still settling in  \n",
    "        df_closest_ppg = df_ppg.iloc[(df_ppg['horodate']-max_value).abs().argsort()[:1]] #closest date to max time for pleth\n",
    "        df_closest_ecg = df_ecg.iloc[(df_ecg['horodate']-max_value).abs().argsort()[:1]] #same for ecg\n",
    "        pleth=df_closest_ppg['pleth'].values[0].split(\" \") #take the values of the signal (string) and split\n",
    "        ecg=df_closest_ecg['ecg'].values[0].split(\" \")\n",
    "        if len(pleth)==641: #sometimes error=last value is null so remove \n",
    "            pleth=pleth[:-1]\n",
    "        if len(ecg)==2561:\n",
    "            ecg=ecg[:-1]\n",
    "        pleth=list(map(int, pleth)) #put the strings in a list \n",
    "        ecg=list(map(float, ecg))\n",
    "    return ecg, pleth"
   ]
  },
  {
   "cell_type": "markdown",
   "metadata": {},
   "source": [
    "2) Return the signals"
   ]
  },
  {
   "cell_type": "code",
   "execution_count": null,
   "metadata": {},
   "outputs": [],
   "source": [
    "import os\n",
    "from os import listdir\n",
    "\n",
    "#path='/home/claramacabiau/sadcsip_partage/Clara Macabiau/Pleth/Pleth_2018_2019/Pleth_id_6435.csv' #test with one file\n",
    "#path_ecg='/home/claramacabiau/sadcsip_partage/Clara Macabiau/ECG/ECG_2018_2019/ECG_id_6435.csv'\n",
    "path='/home/claramacabiau/sadcsip_partage/Clara Macabiau/Pleth/Pleth_2018_2019'\n",
    "path_ecg='/home/claramacabiau/sadcsip_partage/Clara Macabiau/ECG/ECG_2018_2019'\n",
    "\n",
    "#ecg, pleth=signal(path,path_ecg,format)"
   ]
  },
  {
   "cell_type": "code",
   "execution_count": null,
   "metadata": {},
   "outputs": [],
   "source": [
    "## For one file only not the whole folder\n",
    "\n",
    "# df_ppg=df_function(path)\n",
    "# df_ecg=df_function(path_ecg)\n",
    "# start_time_ecg = df_ecg['horodate'].iat[0]\n",
    "# start_time_ppg = df_ppg['horodate'].iat[0]\n",
    "# max_value=max(start_time_ecg,start_time_ppg)+timedelta(hours=1)\n",
    "# df_closest_ppg = df_ppg.iloc[(df_ppg['horodate']-max_value).abs().argsort()[:1]]\n",
    "# df_closest_ecg = df_ecg.iloc[(df_ecg['horodate']-max_value).abs().argsort()[:1]]\n",
    "# pleth=df_closest_ppg['pleth'].values[0].split(\" \")\n",
    "# ecg=df_closest_ecg['ecg'].values[0].split(\" \")\n",
    "# if len(pleth)==641:\n",
    "#     pleth=pleth[:-1]\n",
    "# if len(ecg)==2561:\n",
    "#     ecg=ecg[:-1]\n",
    "# pleth=list(map(int, pleth))\n",
    "# ecg=list(map(float, ecg))"
   ]
  },
  {
   "cell_type": "markdown",
   "metadata": {},
   "source": [
    "3) Plot the signals"
   ]
  },
  {
   "cell_type": "code",
   "execution_count": null,
   "metadata": {},
   "outputs": [],
   "source": [
    "plt.figure(1)\n",
    "axe=np.linspace(1,len(pleth),len(pleth)) #sampling frequency 128 Hz\n",
    "axe_e=np.linspace(1,len(ecg),len(ecg)) #sampling frequency 512 Hz\n",
    "plt.subplot(2,1,1)\n",
    "plt.title(\"PPG\")\n",
    "plt.plot(axe,pleth)\n",
    "plt.subplot(2,1,2)\n",
    "plt.title(\"ECG\")\n",
    "plt.plot(axe_e,ecg)\n",
    "plt.show()"
   ]
  },
  {
   "cell_type": "markdown",
   "metadata": {},
   "source": [
    "4) Creation of the dict for autoencoder"
   ]
  },
  {
   "cell_type": "code",
   "execution_count": null,
   "metadata": {},
   "outputs": [],
   "source": [
    "dict_labels = dict(file_name = ['Pleth_id_5977','Pleth_id_6338','Pleth_id_6340','Pleth_id_6344','Pleth_id_6353','Pleth_id_6356',\n",
    "'Pleth_id_6362','Pleth_id_6366','Pleth_id_6374','Pleth_id_6381','Pleth_id_6388','Pleth_id_6392','Pleth_id_6401',\n",
    "'Pleth_id_6411','Pleth_id_6415','Pleth_id_6417','Pleth_id_6428','Pleth_id_6432','Pleth_id_6433','Pleth_id_6435'], \n",
    "labels = [1,0,0,0,1,0,0,0,1,0,0,0,0,1,1,1,1,1,1,1], \n",
    "date = ['2018-05-10 09:13:48','2018-08-25 23:54:17','2018-08-27 09:43:04','2018-08-28 04:09:04','2018-08-29 18:36:17',\n",
    "'2018-08-29 23:05:51','2018-08-31 16:52:51','2018-09-02 00:52:51','2018-09-04 17:12:46','2018-09-06 18:43:16',\n",
    "'2018-09-07 19:27:41','2018-09-08 16:21:18','2018-09-13 17:45:44','2018-09-15 08:07:58','2018-09-16 09:25:35',\n",
    "'2018-09-16 21:54:07','2018-09-19 18:37:05','2018-09-20 23:43:36','2018-09-20 20:41:08','2018-09-20 21:19:37'], \n",
    "legend = ['1 = bad signal','0 = good signal'])"
   ]
  }
 ],
 "metadata": {
  "interpreter": {
   "hash": "78575282a821e5dab79330298b456d7a3f79f02352dde5a5428d61e5aabb7813"
  },
  "kernelspec": {
   "display_name": "Python 3.9.7 ('base')",
   "language": "python",
   "name": "python3"
  },
  "language_info": {
   "name": "python",
   "version": "3.9.7"
  },
  "orig_nbformat": 4
 },
 "nbformat": 4,
 "nbformat_minor": 2
}

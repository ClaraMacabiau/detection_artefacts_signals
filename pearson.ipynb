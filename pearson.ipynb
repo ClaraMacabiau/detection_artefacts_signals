{
 "cells": [
  {
   "cell_type": "markdown",
   "metadata": {},
   "source": [
    "# Calculation Pearson coefficient\n",
    "The Pearson correlation coefficient is a measure of linear correlation between two sets of data. It is the ratio between the covariance of two variables and the product of their standard deviations. The result always has a value between −1 and 1 if the data are correlated, otherwise 0.\n",
    "\n",
    "Inputs : 2 matrix pulses, one with artefacts and the other is a template\n",
    "\n",
    "Output : rho the correlation matrix "
   ]
  },
  {
   "cell_type": "code",
   "execution_count": 2,
   "metadata": {},
   "outputs": [],
   "source": [
    "import scipy.stats\n",
    "import numpy as np\n",
    "\n",
    "def pearson(pulse1,pulse2):\n",
    "    rho=[]\n",
    "    for i in range(len(pulse1[0])):\n",
    "        mat = scipy.stats.pearsonr(pulse1[:,i], pulse2) #py function to calculate the correlation matrix between each column of my matrices\n",
    "        #pulse1 is my pulse matrix from the signal to classify \n",
    "        #pulse2 is my template so it's a column vector (256x1) \n",
    "        rho.append(mat[0]) #the result 'mat' is a 2x2 matrix I take the first value and add it to a list\n",
    "    rho = np.array(rho) #transform in an array  #rho is the correlation matrix \n",
    "    return rho"
   ]
  }
 ],
 "metadata": {
  "interpreter": {
   "hash": "78575282a821e5dab79330298b456d7a3f79f02352dde5a5428d61e5aabb7813"
  },
  "kernelspec": {
   "display_name": "Python (wfdb)",
   "language": "python",
   "name": "python3"
  },
  "language_info": {
   "codemirror_mode": {
    "name": "ipython",
    "version": 3
   },
   "file_extension": ".py",
   "mimetype": "text/x-python",
   "name": "python",
   "nbconvert_exporter": "python",
   "pygments_lexer": "ipython3",
   "version": "3.9.7"
  }
 },
 "nbformat": 4,
 "nbformat_minor": 4
}

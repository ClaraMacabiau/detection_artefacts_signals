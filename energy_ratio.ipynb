{
 "cells": [
  {
   "cell_type": "markdown",
   "metadata": {},
   "source": [
    "# SVD method + calculation of the energy ratio"
   ]
  },
  {
   "cell_type": "code",
   "execution_count": 2,
   "metadata": {},
   "outputs": [],
   "source": [
    "import numpy as np\n",
    "from kneed import DataGenerator, KneeLocator\n",
    "\n",
    "def energy_ratio(pulse_norm1,pulse_norm_art,th):\n",
    "    row=[]\n",
    "    u, s, vh = np.linalg.svd(pulse_norm1) \n",
    "    ek=np.empty([len(s)])\n",
    "    for i in range(len(s)):\n",
    "        ek[i]=sum(s[0:i])/sum(s)\n",
    "    kneedle = KneeLocator(np.linspace(0,len(s)-1,num=len(s)), ek, S=1.0, curve=\"concave\", direction=\"increasing\") \n",
    "    I = int(kneedle.knee)\n",
    "    u1=u[:,0:I]\n",
    "    var=np.matmul(u1,u1.T)\n",
    "    b1=np.matmul(var,pulse_norm_art)\n",
    "    b2=pulse_norm_art-b1\n",
    "    ratio=np.linalg.norm(b1, ord=2, axis=0)**2/np.linalg.norm(b2, ord=2, axis=0)**2\n",
    "    k=1\n",
    "    for i in range(len(ratio)):\n",
    "        if ratio[i]<th:\n",
    "            row.append(i)\n",
    "            k=k+1\n",
    "    bad_pulses = len(row)\n",
    "    good_pulses = len(pulse_norm_art[0])-len(row)\n",
    "    total_pulses = len(pulse_norm_art[0])\n",
    "    print(bad_pulses)\n",
    "    print(good_pulses)\n",
    "    print(total_pulses)\n",
    "    return ratio, u, s, vh, row, kneedle, bad_pulses, good_pulses, total_pulses"
   ]
  }
 ],
 "metadata": {
  "interpreter": {
   "hash": "78575282a821e5dab79330298b456d7a3f79f02352dde5a5428d61e5aabb7813"
  },
  "kernelspec": {
   "display_name": "Python (wfdb)",
   "language": "python",
   "name": "python3"
  },
  "language_info": {
   "codemirror_mode": {
    "name": "ipython",
    "version": 3
   },
   "file_extension": ".py",
   "mimetype": "text/x-python",
   "name": "python",
   "nbconvert_exporter": "python",
   "pygments_lexer": "ipython3",
   "version": "3.9.7"
  }
 },
 "nbformat": 4,
 "nbformat_minor": 4
}

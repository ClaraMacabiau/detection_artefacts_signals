{
 "cells": [
  {
   "cell_type": "markdown",
   "metadata": {},
   "source": [
    "# Classification of the pulses\n",
    "Function to classify each pulse in a signal from a file (folder file_to_classify). First, I need to use my Pearson function to calculate my correlation matrix between my 2 templates and the matrix of the pulses from a signal. Then I label every pulse good (value 1) or bad (value 0) and if I have 3 good pulses in a row my templates are updated. \n",
    "\n",
    "Inputs : threshold (th), learning rate (alpha), pulse matrix to classify, 2 templates\n",
    "\n",
    "Outputs : 2 templates (updated or not), the list with baniry values as a result of the classification, 2 correlation matrices"
   ]
  },
  {
   "cell_type": "code",
   "execution_count": 1,
   "metadata": {},
   "outputs": [],
   "source": [
    "import numpy as np\n",
    "%run pearson.ipynb \n",
    "\n",
    "def classification(th,alpha,pulse_norm_art,master_temp_1, master_temp_2):\n",
    "    rho1art = pearson(pulse_norm_art,master_temp_1) #correlation matrix between the matrix of pulses from a signal to classify and my 1st template\n",
    "    rho2art = pearson(pulse_norm_art,master_temp_2) #correlation matrix between the matrix of pulses from a signal to classify and my 2nd template\n",
    "    #output: rho has the same nbr of rows as first argument (=pulse_norm_art) of the function and same nbr of columns as the scnd argument (=template)\n",
    "    # rho1art = np.ones((len(pulse_norm_art[0]), 1)) #values correlation matrix = 1 #just to try if the update was working  \n",
    "    # rho2art = np.ones((len(pulse_norm_art[0]), 1))\n",
    "    label=[]\n",
    "    for i in range(len(rho1art)):\n",
    "        rho1art=abs(rho1art) #values of the correlation matrix between -1 and 1 but to compare with the threshold has to be absolute values \n",
    "        rho2art=abs(rho2art)\n",
    "        SQI=max(rho1art[i],rho2art[i]) #Signal Quality Index (SQI) will be compared with the threshold, SQI = max between 2 values of the 2 correlation matrices for the same row\n",
    "        if SQI<th: #if the value of rho matrix is below the threshold the pulse is bad add 0 to a list \n",
    "            label.append(0) #0=bad, #1=good\n",
    "        else: #the value of rho matrix is greater than the threshold pulse is good add 1 to a list\n",
    "            label.append(1) #0=bad, #1=good\n",
    "    #print(label)\n",
    "        if i>=2 and i<len(rho1art):\n",
    "            k=i-1\n",
    "            if label[k]==1: #if the current pulse is good \n",
    "                if label[k-1]==0 and label[k+1]==0: #and if the the pulse before and after the previous pulse are bad\n",
    "                    label[k]=0 #this pulse is not good #value 0\n",
    "                else: \n",
    "                    master_temp_1=alpha*master_temp_1+(1-alpha)*pulse_norm_art[:,k] #update the templates \n",
    "                    master_temp_2=alpha*master_temp_2+(1-alpha)*pulse_norm_art[:,k] #equation: new template = alpha * current template + (1-alpha) * current pulse \n",
    "                    #alpha = learning rate \n",
    "                    rho1art = pearson(pulse_norm_art,master_temp_1) #because I have new templates, recalculation of the correlation matrix \n",
    "                    rho2art = pearson(pulse_norm_art,master_temp_2)       \n",
    "    return master_temp_1, master_temp_2, label, rho1art, rho2art"
   ]
  }
 ],
 "metadata": {
  "interpreter": {
   "hash": "78575282a821e5dab79330298b456d7a3f79f02352dde5a5428d61e5aabb7813"
  },
  "kernelspec": {
   "display_name": "Python (wfdb)",
   "language": "python",
   "name": "python3"
  },
  "language_info": {
   "codemirror_mode": {
    "name": "ipython",
    "version": 3
   },
   "file_extension": ".py",
   "mimetype": "text/x-python",
   "name": "python",
   "nbconvert_exporter": "python",
   "pygments_lexer": "ipython3",
   "version": "3.9.7"
  }
 },
 "nbformat": 4,
 "nbformat_minor": 4
}

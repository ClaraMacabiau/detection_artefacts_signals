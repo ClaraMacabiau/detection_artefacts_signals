{
 "cells": [
  {
   "cell_type": "markdown",
   "metadata": {},
   "source": [
    "# Preprocessing\n",
    "First step of preprocessing is to filter the signal with a Butterworth filter. Then, pulse segmentation to fill a matrix with each pulse and resampling so each matrix from each file has the same number of rows but different number of columns (because different number of pulses). At the end Standard Scaler PY function to standardize features by removing the mean and scaling to unit variance. \n",
    "\n",
    "Inputs : signal matrix, time scale tm and sampling frequency fs\n",
    "\n",
    "Output : pulses matrix after preprocessing"
   ]
  },
  {
   "cell_type": "code",
   "execution_count": 2,
   "metadata": {},
   "outputs": [],
   "source": [
    "import numpy as np\n",
    "from sklearn.preprocessing import StandardScaler\n",
    "\n",
    "%run norm_resamp.ipynb #import the sub functions\n",
    "%run pulse_seg.ipynb \n",
    "\n",
    "#Parameters butterworth filter\n",
    "lowcut = 0.5 #Hz #0.5*60=30 bpm #min of bpm expected in a signal\n",
    "highcut = 5 #Hz #5*60=300 bpm #max of bpm expected in a signal\n",
    "order = 2\n",
    "\n",
    "#new_freq=256 #new frequency for resampling (Hz) #corresponds to a heart cycle duration of 1s\n",
    "#fs=125 actual frequencey of sampling (Hz)\n",
    "\n",
    "def preprocessing(signal,tm,fs,new_freq):\n",
    "    ppg_signal_filt = filtering(signal,fs,lowcut, highcut, order) #filtering the raw signal with a pass band (Butterworth filter)\n",
    "    peaks, pulse, time = pulse_seg(ppg_signal_filt,tm) #segmentation of the pulses (put the pulses in a matrix)\n",
    "    #outputs: matrix 'pulse' of the pulses, 'peaks' list of the indexes where the min of the signal are located, new matrix of time \n",
    "    xq, pulse_resamp = resampling(pulse,time, new_freq) #resampling so each matrix of the pulses has the same number of rows (256 here)\n",
    "    #xq is the new matrix of time (256x...) and pulse_resamp the new matrix of pulses \n",
    "    pulse_norm = StandardScaler().fit_transform(pulse_resamp) #py function to normalize the matrix \n",
    "    return pulse_norm, peaks, ppg_signal_filt, pulse, time, xq, pulse_resamp"
   ]
  }
 ],
 "metadata": {
  "interpreter": {
   "hash": "78575282a821e5dab79330298b456d7a3f79f02352dde5a5428d61e5aabb7813"
  },
  "kernelspec": {
   "display_name": "Python (wfdb)",
   "language": "python",
   "name": "python3"
  },
  "language_info": {
   "codemirror_mode": {
    "name": "ipython",
    "version": 3
   },
   "file_extension": ".py",
   "mimetype": "text/x-python",
   "name": "python",
   "nbconvert_exporter": "python",
   "pygments_lexer": "ipython3",
   "version": "3.9.7"
  }
 },
 "nbformat": 4,
 "nbformat_minor": 4
}

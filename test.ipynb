{
 "cells": [
  {
   "cell_type": "markdown",
   "metadata": {},
   "source": [
    "# TEST"
   ]
  },
  {
   "cell_type": "code",
   "execution_count": 29,
   "metadata": {},
   "outputs": [],
   "source": [
    "import numpy as np\n",
    "import wfdb\n",
    "import os\n",
    "\n",
    "\n",
    "path = 'mimic3wdb/31/3100198'\n",
    "files198=[]\n",
    "for file in os.listdir(path):\n",
    "    if file.endswith(\".hea\"):\n",
    "        file=os.path.splitext(file)[0]\n",
    "        #print(file)\n",
    "        record=wfdb.rdheader(path + '/' + file)\n",
    "        _, fields = wfdb.rdsamp(path + '/' + file)\n",
    "        if 800<fields['sig_len']<3500:\n",
    "            n=fields['n_sig']\n",
    "            for i in range(n):\n",
    "                if fields['sig_name'][i]=='PLETH':\n",
    "                    #print(file)\n",
    "\n",
    "files_art=['3100198_0066','3100198_0073','3100198_0004','3100198_0028','3100198_0025','3100198_0108','3100038_0097','3100038_0162']\n",
    "files_wo_art=['3100198_0099','3100198_0106','3100198_0038','3100198_0014','3100198_0087','3100198_0086','3100198_0046','3100038_0032','3100038_0123','3100038_0021','3100038_0055','3100038_0027','3100038_0106','3100038_0061']\n",
    "        \n",
    "\n"
   ]
  }
 ],
 "metadata": {
  "interpreter": {
   "hash": "78575282a821e5dab79330298b456d7a3f79f02352dde5a5428d61e5aabb7813"
  },
  "kernelspec": {
   "display_name": "Python (wfdb)",
   "language": "python",
   "name": "python3"
  },
  "language_info": {
   "codemirror_mode": {
    "name": "ipython",
    "version": 3
   },
   "file_extension": ".py",
   "mimetype": "text/x-python",
   "name": "python",
   "nbconvert_exporter": "python",
   "pygments_lexer": "ipython3",
   "version": "3.9.7"
  }
 },
 "nbformat": 4,
 "nbformat_minor": 4
}

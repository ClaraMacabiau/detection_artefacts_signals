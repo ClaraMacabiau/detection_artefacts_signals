{
 "cells": [
  {
   "cell_type": "markdown",
   "metadata": {},
   "source": [
    "To have the signal and the time"
   ]
  },
  {
   "cell_type": "code",
   "execution_count": null,
   "metadata": {},
   "outputs": [],
   "source": [
    "_, ppg_signal, _,tm, fs = find_signal('database_Clara/files_to_classify/' + files_to_classify[0])"
   ]
  },
  {
   "cell_type": "markdown",
   "metadata": {},
   "source": [
    "Dictonary created by PhysioNet"
   ]
  },
  {
   "cell_type": "code",
   "execution_count": null,
   "metadata": {},
   "outputs": [],
   "source": [
    "_, fields = wfdb.rdsamp('database_Clara/files_to_classify/' + files_to_classify[0])\n",
    "print(fields)"
   ]
  },
  {
   "cell_type": "markdown",
   "metadata": {},
   "source": [
    "Dictionary for labeling"
   ]
  },
  {
   "cell_type": "code",
   "execution_count": null,
   "metadata": {},
   "outputs": [],
   "source": [
    "dict_labels = dict(file_name = ['3100038_0061', '3100038_0106', '3100198_0086', '3100198_0087', '3100198_0046', '3100198_0014', '3100038_0021', '3100198_0038', '3100038_0027', '3100038_0032', '3100038_0055', '3100038_0123', \n",
    "'3100198_0106', '3100198_0099', '3100198_0108', '3100038_0162', '3100198_0025', '3100198_0028', \n",
    "'3100198_0004', '3100038_0097', '3100198_0073', '3100198_0066'], labels = [0,1,1,1,0,1,0,1,1,1,1,0,1,1,1,1,1,1,1,1,1,1], legend = ['1 = bad signal','0 = good signal'])"
   ]
  },
  {
   "cell_type": "markdown",
   "metadata": {},
   "source": [
    "To plot the signal for the labeling part "
   ]
  },
  {
   "cell_type": "code",
   "execution_count": null,
   "metadata": {},
   "outputs": [],
   "source": [
    "n=7\n",
    "_, ppg_signal, _,tm, fs = find_signal('database_Clara/files_to_classify/' + files_to_classify[n])\n",
    "plt.figure(5)\n",
    "plt.plot(tm,ppg_signal)\n",
    "plt.title(good_files[n])\n",
    "plt.show()"
   ]
  }
 ],
 "metadata": {
  "interpreter": {
   "hash": "78575282a821e5dab79330298b456d7a3f79f02352dde5a5428d61e5aabb7813"
  },
  "kernelspec": {
   "display_name": "Python 3.9.7 ('base')",
   "language": "python",
   "name": "python3"
  },
  "language_info": {
   "name": "python",
   "version": "3.9.7"
  },
  "orig_nbformat": 4
 },
 "nbformat": 4,
 "nbformat_minor": 2
}

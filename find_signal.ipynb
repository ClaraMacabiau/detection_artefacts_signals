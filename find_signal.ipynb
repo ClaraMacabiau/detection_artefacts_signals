{
 "cells": [
  {
   "cell_type": "markdown",
   "metadata": {},
   "source": [
    "# Find the 3 signals (ECG, ABP, PPG)\n",
    "From the downloaded file, this function first fills in a 'signals' matrix which contains all the acquired signals and then separates these signals into 3 categories: AP, ECG and PPG signals.\n",
    "\n",
    "Input : path to your file (needs to be already downloaded and saved in the same place as the code)\n",
    "\n",
    "Outputs : 3 signals for the artefacts detection (ECG, ABP, PPG), tm is the scale time corresponding to the signals, sampling frequency fs "
   ]
  },
  {
   "cell_type": "code",
   "execution_count": 2,
   "metadata": {},
   "outputs": [],
   "source": [
    "import wfdb\n",
    "import numpy as np\n",
    "\n",
    "def find_signal(path):\n",
    "    signals, fields = wfdb.rdsamp(path) #use a wfdb function in the wfdb package made by PhysioNet (website from which I downloaded the files)\n",
    "    #takes a path and return the values of the signals, for example if there is 4 signals the matrix will be X rows and 4 columns \n",
    "    #fields is the informations contained in the header file (sampling frequency, nbr signals, etc...)\n",
    "    list=[]\n",
    "    fs = fields['fs'] #to have the frequency of sampling \n",
    "    ts = 1/fs #sample time\n",
    "    L = len(signals) #Length of signal\n",
    "    tm = np.linspace(0,(L-1)*ts,L) #time vector\n",
    "    ppg_signal=np.empty([len(signals),1])\n",
    "    abp_signal=np.empty([len(signals),1])\n",
    "    for k in range(signals.shape[1]): #loop on the columns of the 'signals' matrix \n",
    "        if fields['sig_name'][k]=='ABP': #take the blood pressure signal from the 'signals' matrix if there is one \n",
    "            abp_signal=signals[:,k]\n",
    "        if fields['sig_name'][k]=='PLETH': #take the PPG signal from the matrix if there is one \n",
    "            ppg_signal=signals[:,k]\n",
    "        if fields['units'][k]=='mV': #take every ECG signal (there can be as many ECG signals as there are channels = 'V','II','I'... from 'I' to 'VI')  \n",
    "            list.append(k) #if there an ECG signal I add the index in a list\n",
    "            ecg_signal=np.empty([len(ppg_signal),len(list)])\n",
    "        for i in range(len(list)): \n",
    "            k=list[i]\n",
    "            ecg_signal=np.empty([len(signals),len(list)])\n",
    "            ecg_signal[:,i]=signals[:,k] #fill a matrix with as many columns as there are ecg signals\n",
    "    return abp_signal, ppg_signal, ecg_signal,tm, fs"
   ]
  }
 ],
 "metadata": {
  "interpreter": {
   "hash": "78575282a821e5dab79330298b456d7a3f79f02352dde5a5428d61e5aabb7813"
  },
  "kernelspec": {
   "display_name": "Python (wfdb)",
   "language": "python",
   "name": "python3"
  },
  "language_info": {
   "codemirror_mode": {
    "name": "ipython",
    "version": 3
   },
   "file_extension": ".py",
   "mimetype": "text/x-python",
   "name": "python",
   "nbconvert_exporter": "python",
   "pygments_lexer": "ipython3",
   "version": "3.9.7"
  }
 },
 "nbformat": 4,
 "nbformat_minor": 4
}

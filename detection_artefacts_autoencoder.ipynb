{
 "cells": [
  {
   "cell_type": "markdown",
   "metadata": {},
   "source": [
    "# Detection of artefacts using autoencoder\n",
    "Macabiau Clara - MSc \n",
    "\n",
    "Last update : oct 2022"
   ]
  },
  {
   "cell_type": "code",
   "execution_count": 39,
   "metadata": {},
   "outputs": [],
   "source": [
    "#Importing libraries\n",
    "%matplotlib widget\n",
    "import numpy as np\n",
    "import pandas as pd\n",
    "from tensorflow import keras\n",
    "from tensorflow.keras import layers\n",
    "from matplotlib import pyplot as plt\n",
    "import wfdb "
   ]
  },
  {
   "cell_type": "code",
   "execution_count": 40,
   "metadata": {},
   "outputs": [],
   "source": [
    "#Importing sub-functions\n",
    "from ipynb.fs.full.find_signal import find_signal\n",
    "# from ipynb.fs.full.classification import classification\n",
    "from ipynb.fs.full.norm_resamp import resampling, nmax, normalizing\n",
    "# from ipynb.fs.full.pulse_seg import filtering, pulse_seg\n",
    "# from ipynb.fs.full.pca import pca_method\n",
    "# from ipynb.fs.full.pearson import pearson\n",
    "# from ipynb.fs.full.energy_ratio import energy_ratio"
   ]
  },
  {
   "cell_type": "code",
   "execution_count": 41,
   "metadata": {},
   "outputs": [],
   "source": [
    "#Path to the files in your folder\n",
    "#The files must be downloaded first and put in the same folder \n",
    "path='mimic3wdb/31/3100038/3100038_0042'\n",
    "\n",
    "new_freq=256 #new frequency for resampling (Hz)\n",
    "th = 0.9 #threshold for the correlation matrix\n",
    "fs=125 #Hz actual frequencey of sampling  \n",
    "\n",
    "#Parameters butterworth filter\n",
    "lowcut = 0.5 #Hz\n",
    "highcut = 5 #Hz\n",
    "order = 2"
   ]
  },
  {
   "cell_type": "code",
   "execution_count": null,
   "metadata": {},
   "outputs": [],
   "source": [
    "#Get the data\n",
    "_, ppg_signal, _, _,tm = find_signal(path)\n",
    "pulse_norm = normalizing(ppg_signal)\n",
    "\n",
    "TIME_STEPS = 288\n",
    "\n",
    "# Generated training sequences for use in the model.\n",
    "def create_sequences(values, time_steps=TIME_STEPS):\n",
    "    output = []\n",
    "    for i in range(len(values) - time_steps + 1):\n",
    "        output.append(values[i : (i + time_steps)])\n",
    "    return np.stack(output)\n",
    "\n",
    "\n",
    "x_train = create_sequences(df_training_value.values)\n",
    "print(\"Training input shape: \", x_train.shape)"
   ]
  }
 ],
 "metadata": {
  "interpreter": {
   "hash": "78575282a821e5dab79330298b456d7a3f79f02352dde5a5428d61e5aabb7813"
  },
  "kernelspec": {
   "display_name": "Python (wfdb)",
   "language": "python",
   "name": "python3"
  },
  "language_info": {
   "codemirror_mode": {
    "name": "ipython",
    "version": 3
   },
   "file_extension": ".py",
   "mimetype": "text/x-python",
   "name": "python",
   "nbconvert_exporter": "python",
   "pygments_lexer": "ipython3",
   "version": "3.9.7"
  }
 },
 "nbformat": 4,
 "nbformat_minor": 4
}

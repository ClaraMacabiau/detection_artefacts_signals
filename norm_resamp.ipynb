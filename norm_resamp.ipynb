{
 "cells": [
  {
   "cell_type": "markdown",
   "metadata": {},
   "source": [
    "# Normalizing and resampling\n",
    "This file is composed of two functions. The first function uses linear interpolation to resample the pulse matrix to a new frequency common to the models and the signal being compared. The second function sets a zero mean and a std equal to 1 for each column of the pulse matrix.\n",
    "\n",
    "- Function 'resampling'\n",
    "\n",
    "Inputs : matrices of pulse and time and the new frequency \n",
    "\n",
    "Ouptut : new matrices of pulse and time resampled\n",
    "\n",
    "- Function 'normalizing'\n",
    "\n",
    "Input : pulse matrix\n",
    "\n",
    "Ouptut : new pulse matrix normalized"
   ]
  },
  {
   "cell_type": "code",
   "execution_count": 7,
   "metadata": {},
   "outputs": [],
   "source": [
    "import numpy as np\n",
    "\n",
    "def resampling(pulse,time,new_freq):\n",
    "    pulse_resamp=np.zeros([new_freq,len(pulse[0])])\n",
    "    xq=np.zeros([new_freq,len(pulse[0])])\n",
    "    for i in range(len(pulse[0])): #loop on the columns of pulse matrix \n",
    "        q=np.nonzero(pulse[:,i])[0][-1] #some columns of the pulse matrix have zeros values at the end because not all pulses have the same number or samples\n",
    "        #for ex if Pulse 1 is 80 samples and Pulse 2 90 samples the matrix pulse will be 90x2 with the last 10 values = 0 for Pulse 1\n",
    "        #so q is the index of the last non zero value for each column\n",
    "        xq[:,i]=np.linspace(time[0,i],time[q,i],new_freq) #creation of an array for the new time scale \n",
    "        #start time: first value of time for each column, stop time: last non zero value for each colum, scale: new freq \n",
    "        pulse_resamp[:,i] = np.interp(xq[:,i],time[0:q,i],pulse[0:q,i]) #1D linear interpolation #np.interp(x,xp,fp)\n",
    "        #returns the linear interpolant to a function with given discrete data points (xp,fp), evaluated at x\n",
    "    return xq, pulse_resamp\n",
    "\n",
    "# def normalizing(pulse):\n",
    "#     pulse_norm=np.zeros([len(pulse),len(pulse[0])])\n",
    "#     m = np.mean(pulse,axis=0) #mean of each column\n",
    "#     std = np.std(pulse,axis=0); #standard deviation of each column\n",
    "#     pulse_norm = (pulse_norm - m)/std #pulse - mean divided by std\n",
    "#     return pulse_norm"
   ]
  }
 ],
 "metadata": {
  "interpreter": {
   "hash": "78575282a821e5dab79330298b456d7a3f79f02352dde5a5428d61e5aabb7813"
  },
  "kernelspec": {
   "display_name": "Python (wfdb)",
   "language": "python",
   "name": "python3"
  },
  "language_info": {
   "codemirror_mode": {
    "name": "ipython",
    "version": 3
   },
   "file_extension": ".py",
   "mimetype": "text/x-python",
   "name": "python",
   "nbconvert_exporter": "python",
   "pygments_lexer": "ipython3",
   "version": "3.9.7"
  }
 },
 "nbformat": 4,
 "nbformat_minor": 4
}

{
 "cells": [
  {
   "cell_type": "markdown",
   "metadata": {},
   "source": [
    "## Resample data and create a dataframe "
   ]
  },
  {
   "cell_type": "code",
   "execution_count": 112,
   "metadata": {},
   "outputs": [],
   "source": [
    "#Importing libraries\n",
    "%matplotlib widget\n",
    "import matplotlib.pyplot as plt\n",
    "import numpy as np\n",
    "import wfdb \n",
    "from sklearn.preprocessing import StandardScaler #standardize features by removing the mean and scaling to unit variances\n",
    "from sklearn.preprocessing import minmax_scale\n",
    "import pandas as pd"
   ]
  },
  {
   "cell_type": "code",
   "execution_count": 113,
   "metadata": {},
   "outputs": [],
   "source": [
    "#Importing sub-functions\n",
    "%run find_signal.ipynb "
   ]
  },
  {
   "cell_type": "code",
   "execution_count": 114,
   "metadata": {},
   "outputs": [],
   "source": [
    "#Code to add in a list the name of the files that are in folders: good_files and files_to_classify \n",
    "import os\n",
    "from os import listdir\n",
    "\n",
    "path1='/Users/claramacabiau/Documents/Canada/Projet_Recherche/CODES/python/wfdb-python-main/functions/database_Clara/files_to_classify'\n",
    "path2='/Users/claramacabiau/Documents/Canada/Projet_Recherche/CODES/python/wfdb-python-main/functions/database_Clara/good_files'\n",
    "files_to_classify=[]\n",
    "good_files=[]\n",
    "for f in listdir(path1):\n",
    "    if f.endswith(\".dat\"): #each file has a .dat (data) and .hea (header with file info) file, this line is to take only the data \n",
    "        f=os.path.splitext(f)[0] #remove the extension of the file \n",
    "        files_to_classify.append(f) #add to the list\n",
    "\n",
    "for f in listdir(path2): #same \n",
    "    if f.endswith(\".dat\"):\n",
    "        f=os.path.splitext(f)[0]\n",
    "        good_files.append(f)"
   ]
  },
  {
   "cell_type": "code",
   "execution_count": 115,
   "metadata": {},
   "outputs": [],
   "source": [
    "#Function to resample the signal and create a pd dataframe \n",
    "#Inputs: signal, time scale and the new frequency for resampling\n",
    "#Output: the signal resampled dataframe \n",
    "\n",
    "def signal_resampling_df(ppg_signal,tm,new_freq):\n",
    "    xq=np.linspace(0,tm[-1],int(new_freq*tm[-1])) #new x scale: same start and end values but different number of samples (number of samples=frequency * end value)\n",
    "    signal_resamp= np.interp(xq,tm,ppg_signal) #interpolation np.interp(new x scale, x,y)\n",
    "    signal_df = pd.DataFrame(signal_resamp) #tranforme the np.array in a dataframe\n",
    "    return signal_df"
   ]
  },
  {
   "cell_type": "code",
   "execution_count": 116,
   "metadata": {},
   "outputs": [],
   "source": [
    "path_file=[]\n",
    "new_freq = 256 #Hz #the actual frequency for these files is 125 Hz\n",
    "path_folder='database_Clara/good_files' #path to the good files \n",
    "for i in range(len(good_files)): #loop on all the files \n",
    "    path_file.append(path_folder +'/'+ good_files[i]) #complete path to the file 'database_Clara/.../3100198_0108' for example\n",
    "    _, ppg_signal, _,tm, fs = find_signal(path_file[i]) #return a column vector of the signal (ppg_signal) and time scale (tm)\n",
    "    signal_df = signal_resampling_df(ppg_signal,tm,new_freq) #resample the signal and create a dataframe "
   ]
  }
 ],
 "metadata": {
  "interpreter": {
   "hash": "78575282a821e5dab79330298b456d7a3f79f02352dde5a5428d61e5aabb7813"
  },
  "kernelspec": {
   "display_name": "Python 3.9.7 ('base')",
   "language": "python",
   "name": "python3"
  },
  "language_info": {
   "codemirror_mode": {
    "name": "ipython",
    "version": 3
   },
   "file_extension": ".py",
   "mimetype": "text/x-python",
   "name": "python",
   "nbconvert_exporter": "python",
   "pygments_lexer": "ipython3",
   "version": "3.9.7"
  },
  "orig_nbformat": 4
 },
 "nbformat": 4,
 "nbformat_minor": 2
}

{
 "cells": [
  {
   "cell_type": "markdown",
   "metadata": {},
   "source": [
    "# Pulse segmentation and filtering \n",
    "This file is composed of two functions. The first one filters the signal obtained with a band-pass Butterworth filter. The filtering eliminates the components that are not included between 30 and 300 bpm. The second function finds the signal pulses using the findpeaks function and fills a matrix.\n",
    "\n",
    "- Function 'filtering'\n",
    "\n",
    "Inputs : signal and parameters of the Butterworth filter\n",
    "\n",
    "Ouptut : signal filtered\n",
    "\n",
    "- Function 'pulse_seg'\n",
    "\n",
    "Inputs : signal and scale time\n",
    "\n",
    "Ouptut : peaks value and matrices of pulse and time"
   ]
  },
  {
   "cell_type": "code",
   "execution_count": 3,
   "metadata": {},
   "outputs": [],
   "source": [
    "from scipy.signal import find_peaks, butter, filtfilt\n",
    "import numpy as np\n",
    "\n",
    "def filtering(signal,fs,lowcut, highcut, order):\n",
    "    nyq = 0.5*fs #nyquist frequency #highest frequency is below the nyquist frequency = no distortion\n",
    "    low = lowcut/nyq #lowest frequency for filtering \n",
    "    high = highcut/nyq #highest frequency \n",
    "    b, a = butter(order, [low, high], btype='band') #py butter function 'band'=band pass\n",
    "    signal_filt=filtfilt(b,a,signal)#py function #forward–backward filtering to achieve a zero-phase response\n",
    "    return signal_filt\n",
    "\n",
    "def pulse_seg(signal,tm):\n",
    "    peaks, _ = find_peaks(-signal, distance=50) #py function to find the local minimums of the signal #'distance' is the minimal number of samples between 2 min\n",
    "    #output: peaks = indexes of the mins\n",
    "    pulse=np.zeros([max(np.diff(peaks))+1,len(peaks)-1])\n",
    "    time=np.zeros([max(np.diff(peaks))+1,len(peaks)-1])\n",
    "    for i in range(len(peaks)-1): #loop to fill the matrix pulse (number of pulses are columns) and the matrix time (related to pulse matrix to plot)\n",
    "        variable=peaks[i] #variable is the current min index \n",
    "        j=0\n",
    "        while variable<=peaks[i+1] and j<=len(signal): #between 2 min \n",
    "            pulse[j,i]=signal[variable] #signal[variable] is the value of the signal corresponding to the index of the peaks list  \n",
    "            time[j,i]=tm[variable]\n",
    "            variable=variable+1 #index is increasing until the next index of local min \n",
    "            j=j+1 #rows of pulse matrix are increasing \n",
    "    pulse=np.array(pulse) #transform the lists in arrays \n",
    "    time=np.array(time)\n",
    "    return peaks, pulse, time"
   ]
  }
 ],
 "metadata": {
  "interpreter": {
   "hash": "78575282a821e5dab79330298b456d7a3f79f02352dde5a5428d61e5aabb7813"
  },
  "kernelspec": {
   "display_name": "Python (wfdb)",
   "language": "python",
   "name": "python3"
  },
  "language_info": {
   "codemirror_mode": {
    "name": "ipython",
    "version": 3
   },
   "file_extension": ".py",
   "mimetype": "text/x-python",
   "name": "python",
   "nbconvert_exporter": "python",
   "pygments_lexer": "ipython3",
   "version": "3.9.7"
  }
 },
 "nbformat": 4,
 "nbformat_minor": 4
}

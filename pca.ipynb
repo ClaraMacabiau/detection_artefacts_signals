{
 "cells": [
  {
   "cell_type": "markdown",
   "metadata": {},
   "source": [
    "# PCA method\n",
    "Principal component analysis (PCA) is a technique for reducing the dimensionality of datasets, increasing interpretability but at the same time minimizing information loss. It does so by creating new uncorrelated variables that successively maximize variance.\n",
    "\n",
    "Input : pulse matrix\n",
    "\n",
    "Output : variance for each principal components (if the value of the variance is very high for a component it means that practically all the information of the signal is in this component)"
   ]
  },
  {
   "cell_type": "code",
   "execution_count": 2,
   "metadata": {},
   "outputs": [],
   "source": [
    "from sklearn.decomposition import PCA\n",
    "import numpy as np\n",
    "\n",
    "def pca_method(pulse,n_components):\n",
    "    pca = PCA(n_components) #n_components = number of principal components to keep after the PCA\n",
    "    principalComponents = pca.fit_transform(pulse) #fit_transform = fit the model with X and apply the dimensionality reduction on X (X = pulse)\n",
    "    var = (pca.explained_variance_ratio_)*100 #percentage of variance explained by each of the selected components\n",
    "    # u, s, vh = np.linalg.svd(pulse, full_matrices=False)\n",
    "    # principalComponents=np.dot(u, np.diag(s))\n",
    "    # PC=principalComponents[:,0:n_components]\n",
    "    return principalComponents,var"
   ]
  }
 ],
 "metadata": {
  "interpreter": {
   "hash": "78575282a821e5dab79330298b456d7a3f79f02352dde5a5428d61e5aabb7813"
  },
  "kernelspec": {
   "display_name": "Python (wfdb)",
   "language": "python",
   "name": "python3"
  },
  "language_info": {
   "codemirror_mode": {
    "name": "ipython",
    "version": 3
   },
   "file_extension": ".py",
   "mimetype": "text/x-python",
   "name": "python",
   "nbconvert_exporter": "python",
   "pygments_lexer": "ipython3",
   "version": "3.9.7"
  }
 },
 "nbformat": 4,
 "nbformat_minor": 4
}

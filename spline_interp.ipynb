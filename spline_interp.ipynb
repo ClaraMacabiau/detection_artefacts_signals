{
 "cells": [
  {
   "cell_type": "markdown",
   "metadata": {},
   "source": [
    "# Spline interpolation"
   ]
  },
  {
   "cell_type": "code",
   "execution_count": 2,
   "metadata": {},
   "outputs": [],
   "source": [
    "from scipy.interpolate import CubicSpline\n",
    "import numpy as np\n",
    "\n",
    "def spline_interp(pulse,time,M,l):\n",
    "    time_interp=np.empty([M,len(pulse[0])])\n",
    "    pulse_interp=np.empty([M,len(pulse[0])])\n",
    "    for i in range(len(l)):\n",
    "        cs = CubicSpline(time[:int(l[i]),i],pulse[:int(l[i]),i])\n",
    "        time_interp[:,i]=np.linspace(time[0,i], time[int(l[i])-1,i], num=M)\n",
    "        pulse_interp[:,i]=cs(time_interp[:,i])\n",
    "    return time_interp,pulse_interp"
   ]
  }
 ],
 "metadata": {
  "interpreter": {
   "hash": "78575282a821e5dab79330298b456d7a3f79f02352dde5a5428d61e5aabb7813"
  },
  "kernelspec": {
   "display_name": "Python (wfdb)",
   "language": "python",
   "name": "python3"
  },
  "language_info": {
   "codemirror_mode": {
    "name": "ipython",
    "version": 3
   },
   "file_extension": ".py",
   "mimetype": "text/x-python",
   "name": "python",
   "nbconvert_exporter": "python",
   "pygments_lexer": "ipython3",
   "version": "3.9.7"
  }
 },
 "nbformat": 4,
 "nbformat_minor": 4
}
